{
  "nbformat": 4,
  "nbformat_minor": 0,
  "metadata": {
    "colab": {
      "name": "VAE.ipynb",
      "provenance": [],
      "collapsed_sections": [],
      "authorship_tag": "ABX9TyMhxnjp0qsZKJaf9XaFNNfO",
      "include_colab_link": true
    },
    "kernelspec": {
      "name": "python3",
      "display_name": "Python 3"
    },
    "accelerator": "GPU"
  },
  "cells": [
    {
      "cell_type": "markdown",
      "metadata": {
        "id": "view-in-github",
        "colab_type": "text"
      },
      "source": [
        "<a href=\"https://colab.research.google.com/github/angzhifan/Auto-Encoding_Variational_Bayes/blob/main/VAE.ipynb\" target=\"_parent\"><img src=\"https://colab.research.google.com/assets/colab-badge.svg\" alt=\"Open In Colab\"/></a>"
      ]
    },
    {
      "cell_type": "code",
      "metadata": {
        "id": "8rNjGGydzmBi",
        "outputId": "aea7f3bb-1378-41c3-adff-a7e61c58b6fa",
        "colab": {
          "base_uri": "https://localhost:8080/",
          "height": 34
        }
      },
      "source": [
        "from google.colab import drive\n",
        "drive.mount('/content/drive')"
      ],
      "execution_count": 1,
      "outputs": [
        {
          "output_type": "stream",
          "text": [
            "Mounted at /content/drive\n"
          ],
          "name": "stdout"
        }
      ]
    },
    {
      "cell_type": "code",
      "metadata": {
        "id": "tYDfnjqXzyVu"
      },
      "source": [
        "#VAE\n",
        "#Author: Angzhi Fan fana@uchicago.edu\n",
        "#Oct 11, 2020\n",
        "\n",
        "import torch\n",
        "import torch.nn as nn\n",
        "import torch.nn.functional as F\n",
        "import time\n",
        "import numpy as np\n",
        "import math\n",
        "import scipy.io\n",
        "import random\n",
        "\n",
        "def stdmtx(X):\n",
        "    means = X.mean(axis =1)\n",
        "    stds = X.std(axis= 1, ddof=1)\n",
        "    X= X - means[:, np.newaxis]\n",
        "    #X= X / stds[:, np.newaxis]\n",
        "    return np.nan_to_num(X)\n"
      ],
      "execution_count": 2,
      "outputs": []
    },
    {
      "cell_type": "code",
      "metadata": {
        "id": "GHJoeoTPQihW"
      },
      "source": [
        "mnist = scipy.io.loadmat('/content/drive/My Drive/dataset/MNIST/mnist_all.mat')\n",
        "mnist_train = np.concatenate((mnist['train0'],mnist['train1'],mnist['train2'],\n",
        "                              mnist['train3'],mnist['train4'],mnist['train5'],mnist['train6'],\n",
        "                              mnist['train7'],mnist['train8'],mnist['train9']), axis=0)\n",
        "mnist_test = np.concatenate((mnist['test0'],mnist['test1'],mnist['test2'],\n",
        "                              mnist['test3'],mnist['test4'],mnist['test5'],mnist['test6'],\n",
        "                              mnist['test7'],mnist['test8'],mnist['test9']), axis=0)\n",
        "print(mnist_train.shape)\n",
        "print(mnist_test.shape)\n",
        "#mnist_mean = np.concatenate((mnist_train,mnist_test), axis=0).mean()\n",
        "#mnist_sd = np.sqrt(np.concatenate((mnist_train,mnist_test), axis=0).var())\n",
        "mnist_train = (mnist_train-mnist_mean)/mnist_sd\n",
        "mnist_test = (mnist_test-mnist_mean)/mnist_sd\n",
        "print(mnist_train.var(0))\n"
      ],
      "execution_count": null,
      "outputs": []
    },
    {
      "cell_type": "code",
      "metadata": {
        "id": "2zKPtTosREtu",
        "outputId": "da35edf9-b68b-457e-98bb-2a52b4ff1953",
        "colab": {
          "base_uri": "https://localhost:8080/",
          "height": 51
        }
      },
      "source": [
        "def load_data():\n",
        "    train_file = '/content/drive/My Drive/dataset/BinaryMNIST/binarized_mnist_train.amat'\n",
        "    valid_file = '/content/drive/My Drive/dataset/BinaryMNIST/binarized_mnist_valid.amat'\n",
        "    test_file = '/content/drive/My Drive/dataset/BinaryMNIST/binarized_mnist_test.amat'\n",
        "    mnist_train = np.concatenate([np.loadtxt(train_file),np.loadtxt(valid_file)])\n",
        "    mnist_test = np.loadtxt(test_file)\n",
        "    return mnist_train, mnist_test\n",
        "\n",
        "mnist_train, mnist_test = load_data()\n",
        "print(mnist_train.shape)\n",
        "print(mnist_test.shape)"
      ],
      "execution_count": 3,
      "outputs": [
        {
          "output_type": "stream",
          "text": [
            "(60000, 784)\n",
            "(10000, 784)\n"
          ],
          "name": "stdout"
        }
      ]
    },
    {
      "cell_type": "code",
      "metadata": {
        "id": "EudmTZIeXYro",
        "outputId": "e4d9600f-6a81-4a9e-86df-a2588adaad71",
        "colab": {
          "base_uri": "https://localhost:8080/",
          "height": 51
        }
      },
      "source": [
        "ff = scipy.io.loadmat('/content/drive/My Drive/dataset/Frey_Face/frey_rawface.mat')['ff'].transpose()/256\n",
        "test_index = random.sample([i for i in range(1965)],281)\n",
        "train_index = list(set([i for i in range(1965)])-set(test_index))\n",
        "ff_train = ff[train_index, :]\n",
        "ff_test = ff[test_index, :]\n",
        "print(ff_train.shape)\n",
        "print(ff_test.shape)"
      ],
      "execution_count": null,
      "outputs": [
        {
          "output_type": "stream",
          "text": [
            "(1684, 560)\n",
            "(281, 560)\n"
          ],
          "name": "stdout"
        }
      ]
    },
    {
      "cell_type": "code",
      "metadata": {
        "id": "yENmSuE_-B0C",
        "outputId": "55d8123a-f0f9-4bce-c3a6-57a073f137f7",
        "colab": {
          "base_uri": "https://localhost:8080/",
          "height": 34
        }
      },
      "source": [
        "device = torch.device(\"cuda:0\" if torch.cuda.is_available() else \"cpu\")\n",
        "print(device)\n",
        "\n",
        "# VAE with one stochastic layer z\n",
        "class VAE(nn.Module):\n",
        "    \n",
        "    def __init__(self, t, d, h_num, out_type):\n",
        "        super(VAE, self).__init__()\n",
        "        self.dim = d\n",
        "        self.Nz = t\n",
        "        self.hid_num = h_num\n",
        "        self.output_type = out_type\n",
        "        self.fc1 = nn.Linear(d, h_num)\n",
        "        self.fc2_mu = nn.Linear(h_num, t)\n",
        "        self.fc2_sigma = nn.Linear(h_num, t)\n",
        "        self.fc3 = nn.Linear(t, h_num)\n",
        "        if out_type == 'gaussian':\n",
        "          self.fc4_mu = nn.Linear(h_num, d)\n",
        "          self.fc4_sigma = nn.Linear(h_num, d)\n",
        "        else:\n",
        "          self.fc4 = nn.Linear(h_num, d)\n",
        "\n",
        "            \n",
        "    def forward(self, x):\n",
        "        x = x.view(-1,self.dim)\n",
        "        x = torch.tanh(self.fc1(x))\n",
        "        mu_z = self.fc2_mu(x)\n",
        "        log_sigma2_z = self.fc2_sigma(x)\n",
        "        eps = torch.randn_like(mu_z)\n",
        "        x = mu_z + torch.exp(log_sigma2_z)*eps\n",
        "        x = torch.tanh(self.fc3(x))\n",
        "        if self.output_type =='gaussian':\n",
        "          if self.dim == 560:\n",
        "            mu = torch.sigmoid(self.fc4_mu(x))\n",
        "          else: \n",
        "            mu = self.fc4_mu(x)\n",
        "          log_sigma2 = self.fc4_sigma(x)\n",
        "          return mu, mu_z, log_sigma2, log_sigma2_z\n",
        "        else:\n",
        "          x = self.fc4(x)\n",
        "          return x, mu_z, _, log_sigma2_z\n",
        "\n",
        "    \n"
      ],
      "execution_count": 4,
      "outputs": [
        {
          "output_type": "stream",
          "text": [
            "cpu\n"
          ],
          "name": "stdout"
        }
      ]
    },
    {
      "cell_type": "code",
      "metadata": {
        "id": "85RgD0iW5efH",
        "outputId": "a815b0e9-0fda-4a27-d162-197aa5cc9dae",
        "colab": {
          "base_uri": "https://localhost:8080/",
          "height": 34
        }
      },
      "source": [
        "def test_function(net, test_n, dataset, out_type):\n",
        "    if dataset == 'ff':\n",
        "        testloader = torch.utils.data.DataLoader(ff_test, batch_size=100,shuffle=False)\n",
        "    else:\n",
        "        testloader = torch.utils.data.DataLoader(mnist_test, batch_size=100,shuffle=False)\n",
        "    ll = 0.0\n",
        "    for i,data in enumerate(testloader, 0):\n",
        "      with torch.no_grad():\n",
        "        test = data.to(device)\n",
        "        output = net(test.float())\n",
        "\n",
        "        # the negative KL term\n",
        "        negtive_KL = (torch.ones_like(output[3])+output[3]-output[1]*output[1]-torch.exp(output[3])).sum(1)/2\n",
        "\n",
        "\n",
        "        # the log conditional prob term\n",
        "        if out_type =='gaussian':\n",
        "          test_minus_mu = test-output[0]\n",
        "          log_p_x_given_z = -torch.ones_like(test).sum(1)*np.log(2*math.pi)/2-output[2].sum(1)/2-(test_minus_mu*test_minus_mu/(2*torch.exp(output[2]))).sum(1) \n",
        "        else:\n",
        "          log_p_x_given_z = torch.sum(output[0]*test-torch.log(1+torch.exp(output[0])), 1)\n",
        "\n",
        "\n",
        "        # sum of the lower bound\n",
        "        L = negtive_KL.sum()+log_p_x_given_z.sum()\n",
        "\n",
        "        ll += L.item()\n",
        "    return ll/test_n\n",
        "\n",
        "print(\"Finished loading test function\")"
      ],
      "execution_count": 5,
      "outputs": [
        {
          "output_type": "stream",
          "text": [
            "Finished loading test function\n"
          ],
          "name": "stdout"
        }
      ]
    },
    {
      "cell_type": "code",
      "metadata": {
        "id": "8W7c4gFGDAVR"
      },
      "source": [
        "dataset = 'ff'\n",
        "batch_size = 100\n",
        "continued = 0\n",
        "Nz = 20\n",
        "output_type = 'gaussian'\n",
        "\n",
        "if dataset == 'ff':\n",
        "  dim = 560\n",
        "  hid_num = 200\n",
        "  train_num = 1684\n",
        "  test_num = 281\n",
        "  trainloader = torch.utils.data.DataLoader(ff_train, batch_size=batch_size, \n",
        "                                         shuffle=True, num_workers=2)\n",
        "elif dataset == 'mnist':\n",
        "  dim = 28*28\n",
        "  hid_num = 500\n",
        "  train_num = 60000\n",
        "  test_num = 10000\n",
        "  trainloader = torch.utils.data.DataLoader(mnist_train, batch_size=batch_size, \n",
        "                                         shuffle=True, num_workers=2)\n",
        "else:\n",
        "  raise Exception(\"Invalid Dataset\")\n",
        "\n",
        "net = VAE(Nz, dim, hid_num, output_type)\n",
        "if continued == 0:\n",
        "  for p in net.parameters():\n",
        "    torch.nn.init.normal_(p,0,0.1)\n",
        "elif continued < 10000:\n",
        "  net.load_state_dict(torch.load('/content/drive/My Drive/VAE/model/vae_net'+'_Nz'+str(Nz)+'_dataset'+dataset+'_'+str(continued)+'.pth'))\n",
        "else:\n",
        "  raise Exception(\"Invalid Starting Epoch\")\n",
        "\n",
        "net.to(device)\n",
        "\n",
        "\n",
        "with open('/content/drive/My Drive/VAE/outfile_Nz'+str(Nz)+'_dataset'+dataset+'_'+'.txt', 'w') as outfile:\n",
        "    outfile.write('output of the code '+'\\n'+'author:Angzhi Fan fana@uchicago.edu'+'\\n')\n",
        "    \n",
        "start = time.time()\n",
        "\n",
        "optimizer = torch.optim.Adagrad(net.parameters())\n",
        "\n",
        "\n",
        "for epoch in range(continued, 171):\n",
        "    if epoch in [1, 3, 10, 17, 33, 66, 100, 140, 170]:\n",
        "        PATH = '/content/drive/My Drive/VAE/model/vae_net'+'_Nz'+str(Nz)+'_dataset'+dataset+'_'+str(epoch)+'.pth'\n",
        "        torch.save(net.state_dict(), PATH)\n",
        "        with open('/content/drive/My Drive/VAE/outfile_Nz'+str(Nz)+'_dataset'+dataset+'_'+'.txt', 'a') as outfile:\n",
        "            elbo = test_function(net, test_num, dataset, output_type)\n",
        "            print('test average L(x)=', elbo)\n",
        "            outfile.write('test average L(x)='+str(elbo)+'\\n')\n",
        "    running_loss = 0.0\n",
        "    for i,data in enumerate(trainloader, 0):\n",
        "        train = data.to(device)\n",
        "        optimizer.zero_grad()\n",
        "        \n",
        "        output = net(train.float())\n",
        "        #print(output[0][12,12])\n",
        "\n",
        "        # the negative KL term\n",
        "        negtive_KL = (torch.ones_like(output[3])+output[3]-output[1]*output[1]-torch.exp(output[3])).sum(1)/2\n",
        "\n",
        "\n",
        "        # the log conditional prob term\n",
        "        if output_type =='gaussian':\n",
        "            train_minus_mu = train - output[0]\n",
        "            log_p_x_given_z = -torch.ones_like(train).sum(1)*np.log(2*math.pi)/2-output[2].sum(1)/2-(train_minus_mu*train_minus_mu/(2*torch.exp(output[2]))).sum(1) \n",
        "        else:\n",
        "            log_p_x_given_z = torch.sum(output[0]*train-torch.log(1+torch.exp(output[0])), 1)\n",
        "\n",
        "\n",
        "        # train the model\n",
        "        loss = -negtive_KL.mean()-log_p_x_given_z.mean()\n",
        "        loss.backward()\n",
        "        optimizer.step()\n",
        "        running_loss -= negtive_KL.sum().item()\n",
        "        #print(negtive_KL.sum().item())\n",
        "        running_loss -= log_p_x_given_z.sum().item()\n",
        "        #print(log_p_x_given_z.sum().item())\n",
        "        #print((train_minus_mu*train_minus_mu/(2*torch.exp(output[2]))).sum())\n",
        "\n",
        "    print('[%d] loss: %.3f' % (epoch+1, running_loss/train_num))\n",
        "    with open('/content/drive/My Drive/VAE/outfile_Nz'+str(Nz)+'_dataset'+dataset+'_'+'.txt', 'a') as outfile:\n",
        "        outfile.write('[%d] loss: %.3f' % (epoch+1, running_loss/train_num)+'\\n')\n",
        "        \n",
        "PATH = '/content/drive/My Drive/VAE/model/vae_net'+'_Nz'+str(Nz)+'_dataset'+dataset+'_'+'.pth'\n",
        "torch.save(net.state_dict(), PATH)\n",
        "\n",
        "print('Finished Training')\n",
        "with open('/content/drive/My Drive/VAE/outfile_Nz'+str(Nz)+'_dataset'+dataset+'_'+'.txt', 'a') as outfile:\n",
        "    outfile.write('Finished Training'+'\\n'+'time cost:'+str(time.time()-start)+'\\n')"
      ],
      "execution_count": null,
      "outputs": []
    }
  ]
}